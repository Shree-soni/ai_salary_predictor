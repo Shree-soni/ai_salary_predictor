{
 "cells": [
  {
   "cell_type": "code",
   "execution_count": 57,
   "id": "dbd51683-3763-4ede-a4ea-f93a45fa14e4",
   "metadata": {},
   "outputs": [],
   "source": [
    "import pandas as pd \n",
    "import numpy as np \n",
    "import matplotlib.pyplot as plt \n",
    "import seaborn as sns \n",
    "from sklearn.model_selection import train_test_split\n",
    "from sklearn.linear_model import LinearRegression \n",
    "from sklearn.preprocessing import OneHotEncoder, MultiLabelBinarizer\n",
    "from sklearn.metrics import r2_score \n",
    "import joblib\n",
    "import os"
   ]
  },
  {
   "cell_type": "code",
   "execution_count": 58,
   "id": "bd8b0a82-f4aa-48f6-acbc-247bc4b2e3a9",
   "metadata": {},
   "outputs": [
    {
     "data": {
      "text/html": [
       "<div>\n",
       "<style scoped>\n",
       "    .dataframe tbody tr th:only-of-type {\n",
       "        vertical-align: middle;\n",
       "    }\n",
       "\n",
       "    .dataframe tbody tr th {\n",
       "        vertical-align: top;\n",
       "    }\n",
       "\n",
       "    .dataframe thead th {\n",
       "        text-align: right;\n",
       "    }\n",
       "</style>\n",
       "<table border=\"1\" class=\"dataframe\">\n",
       "  <thead>\n",
       "    <tr style=\"text-align: right;\">\n",
       "      <th></th>\n",
       "      <th>job_id</th>\n",
       "      <th>job_title</th>\n",
       "      <th>salary_usd</th>\n",
       "      <th>salary_currency</th>\n",
       "      <th>experience_level</th>\n",
       "      <th>employment_type</th>\n",
       "      <th>company_location</th>\n",
       "      <th>company_size</th>\n",
       "      <th>employee_residence</th>\n",
       "      <th>remote_ratio</th>\n",
       "      <th>required_skills</th>\n",
       "      <th>education_required</th>\n",
       "      <th>years_experience</th>\n",
       "      <th>industry</th>\n",
       "      <th>posting_date</th>\n",
       "      <th>application_deadline</th>\n",
       "      <th>job_description_length</th>\n",
       "      <th>benefits_score</th>\n",
       "      <th>company_name</th>\n",
       "    </tr>\n",
       "  </thead>\n",
       "  <tbody>\n",
       "    <tr>\n",
       "      <th>0</th>\n",
       "      <td>AI00001</td>\n",
       "      <td>AI Research Scientist</td>\n",
       "      <td>90376</td>\n",
       "      <td>USD</td>\n",
       "      <td>SE</td>\n",
       "      <td>CT</td>\n",
       "      <td>China</td>\n",
       "      <td>M</td>\n",
       "      <td>China</td>\n",
       "      <td>50</td>\n",
       "      <td>Tableau, PyTorch, Kubernetes, Linux, NLP</td>\n",
       "      <td>Bachelor</td>\n",
       "      <td>9</td>\n",
       "      <td>Automotive</td>\n",
       "      <td>2024-10-18</td>\n",
       "      <td>2024-11-07</td>\n",
       "      <td>1076</td>\n",
       "      <td>5.9</td>\n",
       "      <td>Smart Analytics</td>\n",
       "    </tr>\n",
       "    <tr>\n",
       "      <th>1</th>\n",
       "      <td>AI00002</td>\n",
       "      <td>AI Software Engineer</td>\n",
       "      <td>61895</td>\n",
       "      <td>USD</td>\n",
       "      <td>EN</td>\n",
       "      <td>CT</td>\n",
       "      <td>Canada</td>\n",
       "      <td>M</td>\n",
       "      <td>Ireland</td>\n",
       "      <td>100</td>\n",
       "      <td>Deep Learning, AWS, Mathematics, Python, Docker</td>\n",
       "      <td>Master</td>\n",
       "      <td>1</td>\n",
       "      <td>Media</td>\n",
       "      <td>2024-11-20</td>\n",
       "      <td>2025-01-11</td>\n",
       "      <td>1268</td>\n",
       "      <td>5.2</td>\n",
       "      <td>TechCorp Inc</td>\n",
       "    </tr>\n",
       "    <tr>\n",
       "      <th>2</th>\n",
       "      <td>AI00003</td>\n",
       "      <td>AI Specialist</td>\n",
       "      <td>152626</td>\n",
       "      <td>USD</td>\n",
       "      <td>MI</td>\n",
       "      <td>FL</td>\n",
       "      <td>Switzerland</td>\n",
       "      <td>L</td>\n",
       "      <td>South Korea</td>\n",
       "      <td>0</td>\n",
       "      <td>Kubernetes, Deep Learning, Java, Hadoop, NLP</td>\n",
       "      <td>Associate</td>\n",
       "      <td>2</td>\n",
       "      <td>Education</td>\n",
       "      <td>2025-03-18</td>\n",
       "      <td>2025-04-07</td>\n",
       "      <td>1974</td>\n",
       "      <td>9.4</td>\n",
       "      <td>Autonomous Tech</td>\n",
       "    </tr>\n",
       "    <tr>\n",
       "      <th>3</th>\n",
       "      <td>AI00004</td>\n",
       "      <td>NLP Engineer</td>\n",
       "      <td>80215</td>\n",
       "      <td>USD</td>\n",
       "      <td>SE</td>\n",
       "      <td>FL</td>\n",
       "      <td>India</td>\n",
       "      <td>M</td>\n",
       "      <td>India</td>\n",
       "      <td>50</td>\n",
       "      <td>Scala, SQL, Linux, Python</td>\n",
       "      <td>PhD</td>\n",
       "      <td>7</td>\n",
       "      <td>Consulting</td>\n",
       "      <td>2024-12-23</td>\n",
       "      <td>2025-02-24</td>\n",
       "      <td>1345</td>\n",
       "      <td>8.6</td>\n",
       "      <td>Future Systems</td>\n",
       "    </tr>\n",
       "    <tr>\n",
       "      <th>4</th>\n",
       "      <td>AI00005</td>\n",
       "      <td>AI Consultant</td>\n",
       "      <td>54624</td>\n",
       "      <td>EUR</td>\n",
       "      <td>EN</td>\n",
       "      <td>PT</td>\n",
       "      <td>France</td>\n",
       "      <td>S</td>\n",
       "      <td>Singapore</td>\n",
       "      <td>100</td>\n",
       "      <td>MLOps, Java, Tableau, Python</td>\n",
       "      <td>Master</td>\n",
       "      <td>0</td>\n",
       "      <td>Media</td>\n",
       "      <td>2025-04-15</td>\n",
       "      <td>2025-06-23</td>\n",
       "      <td>1989</td>\n",
       "      <td>6.6</td>\n",
       "      <td>Advanced Robotics</td>\n",
       "    </tr>\n",
       "    <tr>\n",
       "      <th>5</th>\n",
       "      <td>AI00006</td>\n",
       "      <td>AI Architect</td>\n",
       "      <td>123574</td>\n",
       "      <td>EUR</td>\n",
       "      <td>SE</td>\n",
       "      <td>CT</td>\n",
       "      <td>Germany</td>\n",
       "      <td>M</td>\n",
       "      <td>Germany</td>\n",
       "      <td>50</td>\n",
       "      <td>Data Visualization, R, SQL, Linux</td>\n",
       "      <td>Associate</td>\n",
       "      <td>7</td>\n",
       "      <td>Healthcare</td>\n",
       "      <td>2024-08-31</td>\n",
       "      <td>2024-10-04</td>\n",
       "      <td>819</td>\n",
       "      <td>5.9</td>\n",
       "      <td>Neural Networks Co</td>\n",
       "    </tr>\n",
       "    <tr>\n",
       "      <th>6</th>\n",
       "      <td>AI00007</td>\n",
       "      <td>Principal Data Scientist</td>\n",
       "      <td>79670</td>\n",
       "      <td>GBP</td>\n",
       "      <td>MI</td>\n",
       "      <td>FL</td>\n",
       "      <td>United Kingdom</td>\n",
       "      <td>S</td>\n",
       "      <td>United Kingdom</td>\n",
       "      <td>0</td>\n",
       "      <td>R, Docker, MLOps</td>\n",
       "      <td>Associate</td>\n",
       "      <td>3</td>\n",
       "      <td>Gaming</td>\n",
       "      <td>2024-12-29</td>\n",
       "      <td>2025-02-28</td>\n",
       "      <td>1936</td>\n",
       "      <td>6.3</td>\n",
       "      <td>DataVision Ltd</td>\n",
       "    </tr>\n",
       "    <tr>\n",
       "      <th>7</th>\n",
       "      <td>AI00008</td>\n",
       "      <td>NLP Engineer</td>\n",
       "      <td>70640</td>\n",
       "      <td>EUR</td>\n",
       "      <td>EN</td>\n",
       "      <td>FL</td>\n",
       "      <td>France</td>\n",
       "      <td>L</td>\n",
       "      <td>France</td>\n",
       "      <td>0</td>\n",
       "      <td>Python, SQL, Computer Vision, Java, Azure</td>\n",
       "      <td>Master</td>\n",
       "      <td>0</td>\n",
       "      <td>Healthcare</td>\n",
       "      <td>2024-06-07</td>\n",
       "      <td>2024-07-01</td>\n",
       "      <td>1286</td>\n",
       "      <td>7.6</td>\n",
       "      <td>Cloud AI Solutions</td>\n",
       "    </tr>\n",
       "    <tr>\n",
       "      <th>8</th>\n",
       "      <td>AI00009</td>\n",
       "      <td>Data Analyst</td>\n",
       "      <td>160710</td>\n",
       "      <td>USD</td>\n",
       "      <td>SE</td>\n",
       "      <td>CT</td>\n",
       "      <td>Singapore</td>\n",
       "      <td>L</td>\n",
       "      <td>Singapore</td>\n",
       "      <td>0</td>\n",
       "      <td>Hadoop, Git, Mathematics, Python</td>\n",
       "      <td>PhD</td>\n",
       "      <td>7</td>\n",
       "      <td>Government</td>\n",
       "      <td>2024-11-04</td>\n",
       "      <td>2024-11-24</td>\n",
       "      <td>551</td>\n",
       "      <td>9.3</td>\n",
       "      <td>Quantum Computing Inc</td>\n",
       "    </tr>\n",
       "    <tr>\n",
       "      <th>9</th>\n",
       "      <td>AI00010</td>\n",
       "      <td>AI Software Engineer</td>\n",
       "      <td>102557</td>\n",
       "      <td>USD</td>\n",
       "      <td>SE</td>\n",
       "      <td>PT</td>\n",
       "      <td>Austria</td>\n",
       "      <td>M</td>\n",
       "      <td>Austria</td>\n",
       "      <td>0</td>\n",
       "      <td>MLOps, GCP, Scala, Azure, Linux</td>\n",
       "      <td>Master</td>\n",
       "      <td>5</td>\n",
       "      <td>Government</td>\n",
       "      <td>2024-10-20</td>\n",
       "      <td>2024-11-06</td>\n",
       "      <td>2340</td>\n",
       "      <td>5.8</td>\n",
       "      <td>Cloud AI Solutions</td>\n",
       "    </tr>\n",
       "  </tbody>\n",
       "</table>\n",
       "</div>"
      ],
      "text/plain": [
       "    job_id                 job_title  ...  benefits_score           company_name\n",
       "0  AI00001     AI Research Scientist  ...             5.9        Smart Analytics\n",
       "1  AI00002      AI Software Engineer  ...             5.2           TechCorp Inc\n",
       "2  AI00003             AI Specialist  ...             9.4        Autonomous Tech\n",
       "3  AI00004              NLP Engineer  ...             8.6         Future Systems\n",
       "4  AI00005             AI Consultant  ...             6.6      Advanced Robotics\n",
       "5  AI00006              AI Architect  ...             5.9     Neural Networks Co\n",
       "6  AI00007  Principal Data Scientist  ...             6.3         DataVision Ltd\n",
       "7  AI00008              NLP Engineer  ...             7.6     Cloud AI Solutions\n",
       "8  AI00009              Data Analyst  ...             9.3  Quantum Computing Inc\n",
       "9  AI00010      AI Software Engineer  ...             5.8     Cloud AI Solutions\n",
       "\n",
       "[10 rows x 19 columns]"
      ]
     },
     "execution_count": 58,
     "metadata": {},
     "output_type": "execute_result"
    }
   ],
   "source": [
    "dataset = pd.read_csv('../data/job.csv')\n",
    "dataset.head(10)"
   ]
  },
  {
   "cell_type": "code",
   "execution_count": 59,
   "id": "9a24b2cd-7b05-42d2-bd96-22e545f52e26",
   "metadata": {},
   "outputs": [
    {
     "name": "stdout",
     "output_type": "stream",
     "text": [
      "<class 'pandas.core.frame.DataFrame'>\n",
      "RangeIndex: 15000 entries, 0 to 14999\n",
      "Data columns (total 19 columns):\n",
      " #   Column                  Non-Null Count  Dtype  \n",
      "---  ------                  --------------  -----  \n",
      " 0   job_id                  15000 non-null  object \n",
      " 1   job_title               15000 non-null  object \n",
      " 2   salary_usd              15000 non-null  int64  \n",
      " 3   salary_currency         15000 non-null  object \n",
      " 4   experience_level        15000 non-null  object \n",
      " 5   employment_type         15000 non-null  object \n",
      " 6   company_location        15000 non-null  object \n",
      " 7   company_size            15000 non-null  object \n",
      " 8   employee_residence      15000 non-null  object \n",
      " 9   remote_ratio            15000 non-null  int64  \n",
      " 10  required_skills         15000 non-null  object \n",
      " 11  education_required      15000 non-null  object \n",
      " 12  years_experience        15000 non-null  int64  \n",
      " 13  industry                15000 non-null  object \n",
      " 14  posting_date            15000 non-null  object \n",
      " 15  application_deadline    15000 non-null  object \n",
      " 16  job_description_length  15000 non-null  int64  \n",
      " 17  benefits_score          15000 non-null  float64\n",
      " 18  company_name            15000 non-null  object \n",
      "dtypes: float64(1), int64(4), object(14)\n",
      "memory usage: 2.2+ MB\n"
     ]
    }
   ],
   "source": [
    "dataset.info()"
   ]
  },
  {
   "cell_type": "code",
   "execution_count": 60,
   "id": "0d5a4b52-b13f-403d-abad-b725b05424e3",
   "metadata": {},
   "outputs": [
    {
     "data": {
      "text/plain": [
       "job_id                    0\n",
       "job_title                 0\n",
       "salary_usd                0\n",
       "salary_currency           0\n",
       "experience_level          0\n",
       "employment_type           0\n",
       "company_location          0\n",
       "company_size              0\n",
       "employee_residence        0\n",
       "remote_ratio              0\n",
       "required_skills           0\n",
       "education_required        0\n",
       "years_experience          0\n",
       "industry                  0\n",
       "posting_date              0\n",
       "application_deadline      0\n",
       "job_description_length    0\n",
       "benefits_score            0\n",
       "company_name              0\n",
       "dtype: int64"
      ]
     },
     "execution_count": 60,
     "metadata": {},
     "output_type": "execute_result"
    }
   ],
   "source": [
    "dataset.isnull().sum()"
   ]
  },
  {
   "cell_type": "code",
   "execution_count": 61,
   "id": "8440c3c9-6c19-4b72-8c3e-61c90c6b506e",
   "metadata": {},
   "outputs": [
    {
     "data": {
      "text/html": [
       "<div>\n",
       "<style scoped>\n",
       "    .dataframe tbody tr th:only-of-type {\n",
       "        vertical-align: middle;\n",
       "    }\n",
       "\n",
       "    .dataframe tbody tr th {\n",
       "        vertical-align: top;\n",
       "    }\n",
       "\n",
       "    .dataframe thead th {\n",
       "        text-align: right;\n",
       "    }\n",
       "</style>\n",
       "<table border=\"1\" class=\"dataframe\">\n",
       "  <thead>\n",
       "    <tr style=\"text-align: right;\">\n",
       "      <th></th>\n",
       "      <th>salary_usd</th>\n",
       "      <th>remote_ratio</th>\n",
       "      <th>years_experience</th>\n",
       "      <th>job_description_length</th>\n",
       "      <th>benefits_score</th>\n",
       "    </tr>\n",
       "  </thead>\n",
       "  <tbody>\n",
       "    <tr>\n",
       "      <th>salary_usd</th>\n",
       "      <td>3.631381e+09</td>\n",
       "      <td>33759.925981</td>\n",
       "      <td>246486.155372</td>\n",
       "      <td>-315663.226841</td>\n",
       "      <td>86.139465</td>\n",
       "    </tr>\n",
       "    <tr>\n",
       "      <th>remote_ratio</th>\n",
       "      <td>3.375993e+04</td>\n",
       "      <td>1665.677434</td>\n",
       "      <td>3.467718</td>\n",
       "      <td>105.219627</td>\n",
       "      <td>0.185887</td>\n",
       "    </tr>\n",
       "    <tr>\n",
       "      <th>years_experience</th>\n",
       "      <td>2.464862e+05</td>\n",
       "      <td>3.467718</td>\n",
       "      <td>30.755540</td>\n",
       "      <td>-24.046560</td>\n",
       "      <td>-0.058533</td>\n",
       "    </tr>\n",
       "    <tr>\n",
       "      <th>job_description_length</th>\n",
       "      <td>-3.156632e+05</td>\n",
       "      <td>105.219627</td>\n",
       "      <td>-24.046560</td>\n",
       "      <td>331922.416104</td>\n",
       "      <td>5.636844</td>\n",
       "    </tr>\n",
       "    <tr>\n",
       "      <th>benefits_score</th>\n",
       "      <td>8.613946e+01</td>\n",
       "      <td>0.185887</td>\n",
       "      <td>-0.058533</td>\n",
       "      <td>5.636844</td>\n",
       "      <td>2.105023</td>\n",
       "    </tr>\n",
       "  </tbody>\n",
       "</table>\n",
       "</div>"
      ],
      "text/plain": [
       "                          salary_usd  remote_ratio  ...  job_description_length  benefits_score\n",
       "salary_usd              3.631381e+09  33759.925981  ...          -315663.226841       86.139465\n",
       "remote_ratio            3.375993e+04   1665.677434  ...              105.219627        0.185887\n",
       "years_experience        2.464862e+05      3.467718  ...              -24.046560       -0.058533\n",
       "job_description_length -3.156632e+05    105.219627  ...           331922.416104        5.636844\n",
       "benefits_score          8.613946e+01      0.185887  ...                5.636844        2.105023\n",
       "\n",
       "[5 rows x 5 columns]"
      ]
     },
     "execution_count": 61,
     "metadata": {},
     "output_type": "execute_result"
    }
   ],
   "source": [
    "dataset.select_dtypes(['int64','float64']).cov()"
   ]
  },
  {
   "cell_type": "code",
   "execution_count": 62,
   "id": "c48ebfc8-96dd-491d-98a7-aa82729feab6",
   "metadata": {},
   "outputs": [
    {
     "data": {
      "text/html": [
       "<div>\n",
       "<style scoped>\n",
       "    .dataframe tbody tr th:only-of-type {\n",
       "        vertical-align: middle;\n",
       "    }\n",
       "\n",
       "    .dataframe tbody tr th {\n",
       "        vertical-align: top;\n",
       "    }\n",
       "\n",
       "    .dataframe thead th {\n",
       "        text-align: right;\n",
       "    }\n",
       "</style>\n",
       "<table border=\"1\" class=\"dataframe\">\n",
       "  <thead>\n",
       "    <tr style=\"text-align: right;\">\n",
       "      <th></th>\n",
       "      <th>salary_usd</th>\n",
       "      <th>remote_ratio</th>\n",
       "      <th>years_experience</th>\n",
       "      <th>job_description_length</th>\n",
       "      <th>benefits_score</th>\n",
       "    </tr>\n",
       "  </thead>\n",
       "  <tbody>\n",
       "    <tr>\n",
       "      <th>salary_usd</th>\n",
       "      <td>1.000000</td>\n",
       "      <td>0.013727</td>\n",
       "      <td>0.737556</td>\n",
       "      <td>-0.009092</td>\n",
       "      <td>0.000985</td>\n",
       "    </tr>\n",
       "    <tr>\n",
       "      <th>remote_ratio</th>\n",
       "      <td>0.013727</td>\n",
       "      <td>1.000000</td>\n",
       "      <td>0.015321</td>\n",
       "      <td>0.004475</td>\n",
       "      <td>0.003139</td>\n",
       "    </tr>\n",
       "    <tr>\n",
       "      <th>years_experience</th>\n",
       "      <td>0.737556</td>\n",
       "      <td>0.015321</td>\n",
       "      <td>1.000000</td>\n",
       "      <td>-0.007526</td>\n",
       "      <td>-0.007275</td>\n",
       "    </tr>\n",
       "    <tr>\n",
       "      <th>job_description_length</th>\n",
       "      <td>-0.009092</td>\n",
       "      <td>0.004475</td>\n",
       "      <td>-0.007526</td>\n",
       "      <td>1.000000</td>\n",
       "      <td>0.006744</td>\n",
       "    </tr>\n",
       "    <tr>\n",
       "      <th>benefits_score</th>\n",
       "      <td>0.000985</td>\n",
       "      <td>0.003139</td>\n",
       "      <td>-0.007275</td>\n",
       "      <td>0.006744</td>\n",
       "      <td>1.000000</td>\n",
       "    </tr>\n",
       "  </tbody>\n",
       "</table>\n",
       "</div>"
      ],
      "text/plain": [
       "                        salary_usd  remote_ratio  ...  job_description_length  benefits_score\n",
       "salary_usd                1.000000      0.013727  ...               -0.009092        0.000985\n",
       "remote_ratio              0.013727      1.000000  ...                0.004475        0.003139\n",
       "years_experience          0.737556      0.015321  ...               -0.007526       -0.007275\n",
       "job_description_length   -0.009092      0.004475  ...                1.000000        0.006744\n",
       "benefits_score            0.000985      0.003139  ...                0.006744        1.000000\n",
       "\n",
       "[5 rows x 5 columns]"
      ]
     },
     "execution_count": 62,
     "metadata": {},
     "output_type": "execute_result"
    }
   ],
   "source": [
    "dataset.select_dtypes(['int64','float64']).corr()"
   ]
  },
  {
   "cell_type": "code",
   "execution_count": 63,
   "id": "883ab3c6-bf7f-428c-a602-004b8f677928",
   "metadata": {},
   "outputs": [],
   "source": [
    "dataset.dropna(subset=[\"salary_usd\", \"experience_level\", \"job_title\", \"required_skills\", \"company_location\"], inplace=True)"
   ]
  },
  {
   "cell_type": "code",
   "execution_count": 64,
   "id": "6890aa3d-35c1-415d-838b-8b05d52b7ff8",
   "metadata": {},
   "outputs": [
    {
     "data": {
      "text/plain": [
       "count     15000.000000\n",
       "mean     115348.965133\n",
       "std       60260.940438\n",
       "min       32519.000000\n",
       "25%       70179.750000\n",
       "50%       99705.000000\n",
       "75%      146408.500000\n",
       "max      399095.000000\n",
       "Name: salary_usd, dtype: float64"
      ]
     },
     "execution_count": 64,
     "metadata": {},
     "output_type": "execute_result"
    }
   ],
   "source": [
    "dataset['salary_usd'].describe()"
   ]
  },
  {
   "cell_type": "code",
   "execution_count": 65,
   "id": "0beeef1f-108d-49ad-b747-38b8215241a9",
   "metadata": {},
   "outputs": [
    {
     "data": {
      "image/png": "[encoded data removed]",
      "text/plain": [
       "<Figure size 1000x500 with 1 Axes>"
      ]
     },
     "metadata": {},
     "output_type": "display_data"
    }
   ],
   "source": [
    "plt.figure(figsize=(10, 5))\n",
    "sns.boxenplot(x=\"experience_level\", y=\"salary_usd\", data = dataset)\n",
    "plt.title(\"Salary by Experience Level\")\n",
    "plt.show()"
   ]
  },
  {
   "cell_type": "code",
   "execution_count": 66,
   "id": "77efb70a-4849-4df1-8538-709242ecb10f",
   "metadata": {},
   "outputs": [
    {
     "data": {
      "image/png": "[encoded data removed]",
      "text/plain": [
       "<Figure size 1200x500 with 1 Axes>"
      ]
     },
     "metadata": {},
     "output_type": "display_data"
    }
   ],
   "source": [
    "plt.figure(figsize=(12, 5))\n",
    "sns.histplot(dataset[\"salary_usd\"], kde=True, bins=30)\n",
    "plt.title(\"Salary Distribution\")\n",
    "plt.show()\n"
   ]
  },
  {
   "cell_type": "code",
   "execution_count": 67,
   "id": "11da734d-e5cf-4703-b017-64b6759c6951",
   "metadata": {},
   "outputs": [],
   "source": [
    "dataset[\"required_skills\"] = dataset[\"required_skills\"].apply(\n",
    "    lambda x: [skill.strip() for skill in x.split(\",\")] if isinstance(x, str) else x\n",
    ")\n"
   ]
  },
  {
   "cell_type": "code",
   "execution_count": 68,
   "id": "085320bd-af8b-438d-ab52-91c676e86d49",
   "metadata": {},
   "outputs": [],
   "source": [
    "encoder = OneHotEncoder(sparse_output=False, handle_unknown='ignore')\n",
    "X_cat = encoder.fit_transform(dataset[[\"experience_level\", \"job_title\", \"company_location\"]])\n",
    "X_cat_df = pd.DataFrame(X_cat, columns=encoder.get_feature_names_out())"
   ]
  },
  {
   "cell_type": "code",
   "execution_count": 69,
   "id": "89ee311a-5521-4f40-8f50-f14f343a632f",
   "metadata": {},
   "outputs": [],
   "source": [
    "mlb = MultiLabelBinarizer()\n",
    "X_skills = mlb.fit_transform(dataset[\"required_skills\"])\n",
    "X_skills_dataset = pd.DataFrame(X_skills, columns=mlb.classes_)"
   ]
  },
  {
   "cell_type": "code",
   "execution_count": 70,
   "id": "0ff2f5dc-64a8-45cd-ab2f-6f1e2b3f4941",
   "metadata": {},
   "outputs": [],
   "source": [
    "X = pd.concat([X_cat_df.reset_index(drop=True), X_skills_dataset.reset_index(drop=True)], axis=1)\n"
   ]
  },
  {
   "cell_type": "code",
   "execution_count": 71,
   "id": "eca57b81-80fc-4e86-a204-b9e27812c8eb",
   "metadata": {},
   "outputs": [],
   "source": [
    "# Combine features\n",
    "X = pd.concat([X_cat_df.reset_index(drop=True), X_skills_dataset.reset_index(drop=True)], axis=1)\n",
    "y = dataset[\"salary_usd\"]\n"
   ]
  },
  {
   "cell_type": "code",
   "execution_count": 72,
   "id": "f2fa044a-5edd-432b-82a0-cd0b0aab4163",
   "metadata": {},
   "outputs": [
    {
     "name": "stdout",
     "output_type": "stream",
     "text": [
      "R2 Score: 0.8194595277673984\n"
     ]
    }
   ],
   "source": [
    "X_train, X_test, y_train, y_test = train_test_split(X, y, test_size=0.2, random_state=42)\n",
    "model = LinearRegression()\n",
    "model.fit(X_train, y_train)\n",
    "y_pred = model.predict(X_test)\n",
    "print(\"R2 Score:\", r2_score(y_test, y_pred))\n"
   ]
  },
  {
   "cell_type": "code",
   "execution_count": 73,
   "id": "e0adfed8-5691-4048-9c1a-f5a72ffeaacc",
   "metadata": {},
   "outputs": [
    {
     "name": "stdout",
     "output_type": "stream",
     "text": [
      "Model and encoders saved!\n"
     ]
    }
   ],
   "source": [
    "os.makedirs(\"../models\", exist_ok=True)\n",
    "\n",
    "joblib.dump(model, \"../models/salary_model.pkl\")\n",
    "joblib.dump(encoder, \"../models/encoder.pkl\")\n",
    "joblib.dump(mlb, \"../models/mlb.pkl\")\n",
    "\n",
    "print(\"Model and encoders saved!\")\n"
   ]
  },
  {
   "cell_type": "code",
   "execution_count": null,
   "id": "5b62ce30-28fb-4935-bf43-f0255bf92b79",
   "metadata": {},
   "outputs": [],
   "source": []
  },
  {
   "cell_type": "code",
   "execution_count": null,
   "id": "5c7d0c93-7e5c-4813-9ab6-3b35eb905fce",
   "metadata": {},
   "outputs": [],
   "source": []
  },
  {
   "cell_type": "code",
   "execution_count": null,
   "id": "5d403a99-d15c-4d56-9a45-275f3ebbd47b",
   "metadata": {},
   "outputs": [],
   "source": []
  }
 ],
 "metadata": {
  "kernelspec": {
   "display_name": "Python 3 (ipykernel)",
   "language": "python",
   "name": "python3"
  },
  "language_info": {
   "codemirror_mode": {
    "name": "ipython",
    "version": 3
   },
   "file_extension": ".py",
   "mimetype": "text/x-python",
   "name": "python",
   "nbconvert_exporter": "python",
   "pygments_lexer": "ipython3",
   "version": "3.13.5"
  }
 },
 "nbformat": 4,
 "nbformat_minor": 5
}
